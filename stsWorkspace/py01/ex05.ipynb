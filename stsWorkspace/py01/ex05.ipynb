{
 "cells": [
  {
   "cell_type": "code",
   "execution_count": 1,
   "id": "2ff6b8b2",
   "metadata": {},
   "outputs": [
    {
     "name": "stdout",
     "output_type": "stream",
     "text": [
      "참\n"
     ]
    }
   ],
   "source": [
    "a=5\n",
    "b=2\n",
    "if a>b:\n",
    "    print('참')"
   ]
  },
  {
   "cell_type": "code",
   "execution_count": 2,
   "id": "aa15f301",
   "metadata": {},
   "outputs": [
    {
     "name": "stdout",
     "output_type": "stream",
     "text": [
      "거짓\n"
     ]
    }
   ],
   "source": [
    "if a<b:\n",
    "    print(\"참\")\n",
    "else:\n",
    "    print('거짓')"
   ]
  },
  {
   "cell_type": "code",
   "execution_count": 3,
   "id": "47cd98c9",
   "metadata": {},
   "outputs": [
    {
     "name": "stdout",
     "output_type": "stream",
     "text": [
      "양수\n"
     ]
    }
   ],
   "source": [
    "a=5\n",
    "if a>0:\n",
    "    print('양수')\n",
    "elif a<0:\n",
    "    print('음수')\n",
    "else:\n",
    "    print(0)"
   ]
  },
  {
   "cell_type": "code",
   "execution_count": 4,
   "id": "0974f591",
   "metadata": {},
   "outputs": [
    {
     "name": "stdout",
     "output_type": "stream",
     "text": [
      "5\n"
     ]
    }
   ],
   "source": [
    "if a>b :print(a)"
   ]
  },
  {
   "cell_type": "code",
   "execution_count": 6,
   "id": "326984b3",
   "metadata": {},
   "outputs": [
    {
     "name": "stdout",
     "output_type": "stream",
     "text": [
      "다음\n"
     ]
    }
   ],
   "source": [
    "# for(int i=0; i<10; i++){}\n",
    "for x in [0, 1, 2]:\n",
    "    pass\n",
    "def func1():\n",
    "    pass\n",
    "print('다음')\n",
    "func1()"
   ]
  },
  {
   "cell_type": "code",
   "execution_count": null,
   "id": "f20cfcba",
   "metadata": {},
   "outputs": [
    {
     "data": {
      "text/plain": [
       "['item1', 'item2', 'item3']"
      ]
     },
     "execution_count": 18,
     "metadata": {},
     "output_type": "execute_result"
    }
   ],
   "source": [
    "arr1=['item1','item2','item3','item4','item5']\n",
    "arr1[0:len(arr1)]\n",
    "arr1[0:3]\n",
    "arr1[1:3]\n",
    "arr1[1:-1]\n",
    "arr1[-3:-1]\n",
    "arr1[-3]\n",
    "arr1[1:2]\n",
    "arr1[0:]\n",
    "arr1[:]\n",
    "arr1[2:]\n",
    "arr1[:3]\n",
    "arr2=arr1[:]\n",
    "arr2[1]='edit2'"
   ]
  },
  {
   "cell_type": "code",
   "execution_count": null,
   "id": "4f96b6e8",
   "metadata": {},
   "outputs": [],
   "source": []
  }
 ],
 "metadata": {
  "kernelspec": {
   "display_name": "Python 3",
   "language": "python",
   "name": "python3"
  },
  "language_info": {
   "codemirror_mode": {
    "name": "ipython",
    "version": 3
   },
   "file_extension": ".py",
   "mimetype": "text/x-python",
   "name": "python",
   "nbconvert_exporter": "python",
   "pygments_lexer": "ipython3",
   "version": "3.11.9"
  }
 },
 "nbformat": 4,
 "nbformat_minor": 5
}
