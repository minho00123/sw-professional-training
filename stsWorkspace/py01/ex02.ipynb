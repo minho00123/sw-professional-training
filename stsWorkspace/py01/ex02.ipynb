{
 "cells": [
  {
   "cell_type": "code",
   "execution_count": 1,
   "id": "5449cf0b",
   "metadata": {},
   "outputs": [
    {
     "name": "stdout",
     "output_type": "stream",
     "text": [
      "test\n"
     ]
    }
   ],
   "source": [
    "print('test')"
   ]
  },
  {
   "cell_type": "code",
   "execution_count": 4,
   "id": "05629393",
   "metadata": {},
   "outputs": [
    {
     "data": {
      "text/plain": [
       "1666.6666666666667"
      ]
     },
     "execution_count": 4,
     "metadata": {},
     "output_type": "execute_result"
    }
   ],
   "source": [
    "5000/3"
   ]
  },
  {
   "cell_type": "code",
   "execution_count": 5,
   "id": "34392223",
   "metadata": {},
   "outputs": [
    {
     "data": {
      "text/plain": [
       "1666"
      ]
     },
     "execution_count": 5,
     "metadata": {},
     "output_type": "execute_result"
    }
   ],
   "source": [
    "5000//3"
   ]
  },
  {
   "cell_type": "code",
   "execution_count": 6,
   "id": "271eb2aa",
   "metadata": {},
   "outputs": [
    {
     "data": {
      "text/plain": [
       "2"
      ]
     },
     "execution_count": 6,
     "metadata": {},
     "output_type": "execute_result"
    }
   ],
   "source": [
    "5000%3"
   ]
  },
  {
   "cell_type": "code",
   "execution_count": 7,
   "id": "5a9d97fe",
   "metadata": {},
   "outputs": [
    {
     "data": {
      "text/plain": [
       "8"
      ]
     },
     "execution_count": 7,
     "metadata": {},
     "output_type": "execute_result"
    }
   ],
   "source": [
    "2**3"
   ]
  },
  {
   "cell_type": "code",
   "execution_count": 8,
   "id": "0ad90e76",
   "metadata": {},
   "outputs": [
    {
     "data": {
      "text/plain": [
       "'문자열'"
      ]
     },
     "execution_count": 8,
     "metadata": {},
     "output_type": "execute_result"
    }
   ],
   "source": [
    "'문자열'"
   ]
  },
  {
   "cell_type": "code",
   "execution_count": 9,
   "id": "86d89e76",
   "metadata": {},
   "outputs": [
    {
     "data": {
      "text/plain": [
       "'문자열'"
      ]
     },
     "execution_count": 9,
     "metadata": {},
     "output_type": "execute_result"
    }
   ],
   "source": [
    "\"문자열\""
   ]
  },
  {
   "cell_type": "code",
   "execution_count": 10,
   "id": "eac070b0",
   "metadata": {},
   "outputs": [
    {
     "data": {
      "text/plain": [
       "'문자열'"
      ]
     },
     "execution_count": 10,
     "metadata": {},
     "output_type": "execute_result"
    }
   ],
   "source": [
    "'문자'+'열'"
   ]
  },
  {
   "cell_type": "code",
   "execution_count": 12,
   "id": "3517ab2f",
   "metadata": {},
   "outputs": [
    {
     "data": {
      "text/plain": [
       "'문자1111'"
      ]
     },
     "execution_count": 12,
     "metadata": {},
     "output_type": "execute_result"
    }
   ],
   "source": [
    "'문자'+str(1111)"
   ]
  },
  {
   "cell_type": "code",
   "execution_count": 13,
   "id": "7fca4a9c",
   "metadata": {},
   "outputs": [
    {
     "data": {
      "text/plain": [
       "'문자열문자열문자열'"
      ]
     },
     "execution_count": 13,
     "metadata": {},
     "output_type": "execute_result"
    }
   ],
   "source": [
    "'문자열'*3"
   ]
  },
  {
   "cell_type": "code",
   "execution_count": 14,
   "id": "5d702f07",
   "metadata": {},
   "outputs": [
    {
     "data": {
      "text/plain": [
       "(2, 1)"
      ]
     },
     "execution_count": 14,
     "metadata": {},
     "output_type": "execute_result"
    }
   ],
   "source": [
    "divmod(5,2)"
   ]
  },
  {
   "cell_type": "code",
   "execution_count": null,
   "id": "79d63a2c",
   "metadata": {},
   "outputs": [
    {
     "name": "stdout",
     "output_type": "stream",
     "text": [
      "f3\n"
     ]
    }
   ],
   "source": [
    "def func():\n",
    "    print('f1')\n",
    "    print('f2')\n",
    "print('f3')"
   ]
  },
  {
   "cell_type": "code",
   "execution_count": 16,
   "id": "fe7a9fd3",
   "metadata": {},
   "outputs": [
    {
     "name": "stdout",
     "output_type": "stream",
     "text": [
      "f1\n",
      "f2\n"
     ]
    }
   ],
   "source": [
    "func()\n"
   ]
  },
  {
   "cell_type": "code",
   "execution_count": 24,
   "id": "7b693114",
   "metadata": {},
   "outputs": [],
   "source": [
    "watch = 100000\n",
    "lighter = 300"
   ]
  },
  {
   "cell_type": "code",
   "execution_count": 25,
   "id": "9ac3f8ca",
   "metadata": {},
   "outputs": [
    {
     "data": {
      "text/plain": [
       "100300"
      ]
     },
     "execution_count": 25,
     "metadata": {},
     "output_type": "execute_result"
    }
   ],
   "source": [
    "int(watch) + int(lighter)"
   ]
  },
  {
   "cell_type": "code",
   "execution_count": 28,
   "id": "d2fef1d1",
   "metadata": {},
   "outputs": [
    {
     "name": "stdout",
     "output_type": "stream",
     "text": [
      "True\n",
      "False\n"
     ]
    }
   ],
   "source": [
    "print(True)\n",
    "print(False)"
   ]
  },
  {
   "cell_type": "code",
   "execution_count": 32,
   "id": "33bb303e",
   "metadata": {},
   "outputs": [
    {
     "name": "stdout",
     "output_type": "stream",
     "text": [
      "첫번째\n",
      "두번째1\n",
      "두번째2\n"
     ]
    }
   ],
   "source": [
    "print('첫번째')\n",
    "print(\"\"\"두번째1\n",
    "두번째2\"\"\")"
   ]
  },
  {
   "cell_type": "code",
   "execution_count": 37,
   "id": "42b06226",
   "metadata": {},
   "outputs": [
    {
     "name": "stdout",
     "output_type": "stream",
     "text": [
      "<class 'int'>\n",
      "<class 'float'>\n",
      "<class 'str'>\n",
      "문자열\n"
     ]
    }
   ],
   "source": [
    "a=1\n",
    "print(type(a))\n",
    "a=3.14\n",
    "print(type(a))\n",
    "a='문자열'\n",
    "print(type(a))\n",
    "print(a)"
   ]
  },
  {
   "cell_type": "code",
   "execution_count": 45,
   "id": "e15f05a4",
   "metadata": {},
   "outputs": [
    {
     "name": "stdout",
     "output_type": "stream",
     "text": [
      "140705639034120 <class 'NoneType'>\n",
      "140705639034120\n",
      "140705640510280\n",
      "140705640510280\n",
      "140705640510280\n"
     ]
    }
   ],
   "source": [
    "a=None\n",
    "print(id(a),type(a))\n",
    "print(id(a))\n",
    "a=2\n",
    "print(id(a))\n",
    "print(id(a))\n",
    "print(id(a))"
   ]
  },
  {
   "cell_type": "code",
   "execution_count": 46,
   "id": "ef84b0d3",
   "metadata": {},
   "outputs": [
    {
     "name": "stdout",
     "output_type": "stream",
     "text": [
      "10 20 30\n"
     ]
    }
   ],
   "source": [
    "kor=10\n",
    "eng=20\n",
    "math=30\n",
    "print(kor,eng,math)"
   ]
  },
  {
   "cell_type": "code",
   "execution_count": 49,
   "id": "5d0759c2",
   "metadata": {},
   "outputs": [
    {
     "name": "stdout",
     "output_type": "stream",
     "text": [
      "40 50 60\n"
     ]
    }
   ],
   "source": [
    "kor,eng,math=40,50,60\n",
    "print(kor,eng,math)"
   ]
  },
  {
   "cell_type": "code",
   "execution_count": 54,
   "id": "21ec4503",
   "metadata": {},
   "outputs": [
    {
     "name": "stdout",
     "output_type": "stream",
     "text": [
      "55 66\n"
     ]
    }
   ],
   "source": [
    "kor=input('국어')\n",
    "eng=input('영어')\n",
    "kor,eng=eng,kor\n",
    "print(kor,eng)"
   ]
  },
  {
   "cell_type": "code",
   "execution_count": null,
   "id": "af540b3f",
   "metadata": {},
   "outputs": [
    {
     "name": "stdout",
     "output_type": "stream",
     "text": [
      "1234\n",
      "12 34\n",
      "1 2 34\n"
     ]
    }
   ],
   "source": [
    "print(1234)\n",
    "print(12,34,sep=',')\n",
    "print(1,2,34,sep=',')"
   ]
  }
 ],
 "metadata": {
  "kernelspec": {
   "display_name": "Python 3",
   "language": "python",
   "name": "python3"
  },
  "language_info": {
   "codemirror_mode": {
    "name": "ipython",
    "version": 3
   },
   "file_extension": ".py",
   "mimetype": "text/x-python",
   "name": "python",
   "nbconvert_exporter": "python",
   "pygments_lexer": "ipython3",
   "version": "3.11.9"
  }
 },
 "nbformat": 4,
 "nbformat_minor": 5
}
