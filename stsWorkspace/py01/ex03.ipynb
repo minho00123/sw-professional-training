{
 "cells": [
  {
   "cell_type": "code",
   "execution_count": 1,
   "id": "a0b19a9d",
   "metadata": {},
   "outputs": [],
   "source": [
    "family = ['mother', 'father', 'gentleman', 'sexy lady']"
   ]
  },
  {
   "cell_type": "code",
   "execution_count": 4,
   "id": "65879a94",
   "metadata": {},
   "outputs": [],
   "source": [
    "family.append('item1')"
   ]
  },
  {
   "cell_type": "code",
   "execution_count": 9,
   "id": "8e7dcbc9",
   "metadata": {},
   "outputs": [],
   "source": [
    "family.insert(0,'item2')"
   ]
  },
  {
   "cell_type": "code",
   "execution_count": 11,
   "id": "8fa2ce49",
   "metadata": {},
   "outputs": [
    {
     "data": {
      "text/plain": [
       "'sexy lady'"
      ]
     },
     "execution_count": 11,
     "metadata": {},
     "output_type": "execute_result"
    }
   ],
   "source": [
    "family.pop()"
   ]
  },
  {
   "cell_type": "code",
   "execution_count": 25,
   "id": "89c42d73",
   "metadata": {},
   "outputs": [],
   "source": [
    "family.insert(2,'item3')"
   ]
  },
  {
   "cell_type": "code",
   "execution_count": 26,
   "id": "6647b17b",
   "metadata": {},
   "outputs": [],
   "source": [
    "family.remove('item3')"
   ]
  },
  {
   "cell_type": "code",
   "execution_count": 29,
   "id": "8d2e8118",
   "metadata": {},
   "outputs": [],
   "source": [
    "family[2]='edit'"
   ]
  },
  {
   "cell_type": "code",
   "execution_count": 30,
   "id": "ee3f767e",
   "metadata": {},
   "outputs": [
    {
     "name": "stdout",
     "output_type": "stream",
     "text": [
      "<class 'list'> ['item2', 'mother', 'edit', 'gentleman']\n"
     ]
    }
   ],
   "source": [
    "print(type(family),family)"
   ]
  },
  {
   "cell_type": "code",
   "execution_count": 36,
   "id": "dc7f5f12",
   "metadata": {},
   "outputs": [
    {
     "data": {
      "text/plain": [
       "4"
      ]
     },
     "execution_count": 36,
     "metadata": {},
     "output_type": "execute_result"
    }
   ],
   "source": [
    "len(family)"
   ]
  },
  {
   "cell_type": "code",
   "execution_count": 37,
   "id": "286f9896",
   "metadata": {},
   "outputs": [
    {
     "name": "stdout",
     "output_type": "stream",
     "text": [
      "item2\n",
      "mother\n",
      "edit\n",
      "gentleman\n"
     ]
    }
   ],
   "source": [
    "# for i in [0,1,2,3]:\n",
    "for i in range(len(family)):\n",
    "  print(family[i])"
   ]
  },
  {
   "cell_type": "code",
   "execution_count": 32,
   "id": "5293c4ee",
   "metadata": {},
   "outputs": [
    {
     "name": "stdout",
     "output_type": "stream",
     "text": [
      "item2\n",
      "mother\n",
      "edit\n",
      "gentleman\n"
     ]
    }
   ],
   "source": [
    "for ele in family:\n",
    "    print(ele)"
   ]
  },
  {
   "cell_type": "code",
   "execution_count": 35,
   "id": "1f710e0e",
   "metadata": {},
   "outputs": [
    {
     "data": {
      "text/plain": [
       "range(0, 5)"
      ]
     },
     "execution_count": 35,
     "metadata": {},
     "output_type": "execute_result"
    }
   ],
   "source": [
    "range(5)"
   ]
  },
  {
   "cell_type": "code",
   "execution_count": 42,
   "id": "165abfba",
   "metadata": {},
   "outputs": [
    {
     "data": {
      "text/plain": [
       "range(5, 0, -2)"
      ]
     },
     "execution_count": 42,
     "metadata": {},
     "output_type": "execute_result"
    }
   ],
   "source": [
    "range(5,0,-2)"
   ]
  },
  {
   "cell_type": "code",
   "execution_count": 43,
   "id": "2ca970b1",
   "metadata": {},
   "outputs": [
    {
     "data": {
      "text/plain": [
       "[5, 3, 1]"
      ]
     },
     "execution_count": 43,
     "metadata": {},
     "output_type": "execute_result"
    }
   ],
   "source": [
    "list(range(5, 0, -2))"
   ]
  },
  {
   "cell_type": "code",
   "execution_count": 45,
   "id": "32b8cddc",
   "metadata": {},
   "outputs": [],
   "source": [
    "arr1=[9,3,5,1,7]"
   ]
  },
  {
   "cell_type": "code",
   "execution_count": 46,
   "id": "4e364cc4",
   "metadata": {},
   "outputs": [],
   "source": [
    "arr1.sort()"
   ]
  },
  {
   "cell_type": "code",
   "execution_count": 48,
   "id": "4e8937c7",
   "metadata": {},
   "outputs": [],
   "source": [
    "arr1.reverse()"
   ]
  },
  {
   "cell_type": "code",
   "execution_count": 49,
   "id": "4cfd0a06",
   "metadata": {},
   "outputs": [
    {
     "data": {
      "text/plain": [
       "[9, 7, 5, 3, 1]"
      ]
     },
     "execution_count": 49,
     "metadata": {},
     "output_type": "execute_result"
    }
   ],
   "source": [
    "arr1"
   ]
  },
  {
   "cell_type": "code",
   "execution_count": 52,
   "id": "2c72eb13",
   "metadata": {},
   "outputs": [
    {
     "name": "stdout",
     "output_type": "stream",
     "text": [
      "True\n",
      "False\n",
      "True\n"
     ]
    }
   ],
   "source": [
    "print(3 in arr1)\n",
    "print(4 in arr1)\n",
    "print(4 not in arr1)"
   ]
  },
  {
   "cell_type": "code",
   "execution_count": null,
   "id": "cbd8406a",
   "metadata": {},
   "outputs": [
    {
     "name": "stdout",
     "output_type": "stream",
     "text": [
      "(2, 4, 6, 8)\n"
     ]
    }
   ],
   "source": [
    "# 튜플\n",
    "arr2=(2,4,6,8)\n",
    "print(arr2)"
   ]
  },
  {
   "cell_type": "markdown",
   "id": "6d2b9d30",
   "metadata": {},
   "source": []
  },
  {
   "cell_type": "code",
   "execution_count": 54,
   "id": "c519a0c5",
   "metadata": {},
   "outputs": [
    {
     "name": "stdout",
     "output_type": "stream",
     "text": [
      "2\n",
      "4\n",
      "6\n",
      "8\n"
     ]
    }
   ],
   "source": [
    "for ele in arr2:\n",
    "    print(ele)"
   ]
  },
  {
   "cell_type": "code",
   "execution_count": null,
   "id": "95a6c5fe",
   "metadata": {},
   "outputs": [],
   "source": [
    "(kor, eng, math)= (10,20,30)\n",
    "(kor, eng, math)=(math, eng, kor)"
   ]
  },
  {
   "cell_type": "code",
   "execution_count": null,
   "id": "1191d188",
   "metadata": {},
   "outputs": [],
   "source": []
  }
 ],
 "metadata": {
  "kernelspec": {
   "display_name": "Python 3",
   "language": "python",
   "name": "python3"
  },
  "language_info": {
   "codemirror_mode": {
    "name": "ipython",
    "version": 3
   },
   "file_extension": ".py",
   "mimetype": "text/x-python",
   "name": "python",
   "nbconvert_exporter": "python",
   "pygments_lexer": "ipython3",
   "version": "3.11.9"
  }
 },
 "nbformat": 4,
 "nbformat_minor": 5
}
