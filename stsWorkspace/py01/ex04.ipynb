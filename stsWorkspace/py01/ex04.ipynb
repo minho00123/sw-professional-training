{
 "cells": [
  {
   "cell_type": "code",
   "execution_count": 7,
   "id": "755614e6",
   "metadata": {},
   "outputs": [],
   "source": [
    "myset = {\"apple\", \"banana\", \"cherry\"}\n",
    "myset.add(\"orange\")\n",
    "myset.add(\"apple\")"
   ]
  },
  {
   "cell_type": "code",
   "execution_count": 8,
   "id": "9ff329cb",
   "metadata": {},
   "outputs": [
    {
     "data": {
      "text/plain": [
       "{'apple', 'banana', 'cherry', 'orange'}"
      ]
     },
     "execution_count": 8,
     "metadata": {},
     "output_type": "execute_result"
    }
   ],
   "source": [
    "myset"
   ]
  },
  {
   "cell_type": "code",
   "execution_count": 6,
   "id": "647cad42",
   "metadata": {},
   "outputs": [
    {
     "name": "stdout",
     "output_type": "stream",
     "text": [
      "banana\n",
      "orange\n",
      "cherry\n",
      "apple\n"
     ]
    }
   ],
   "source": [
    "for ele in myset:\n",
    "    print(ele)"
   ]
  },
  {
   "cell_type": "code",
   "execution_count": 10,
   "id": "cf9e0b08",
   "metadata": {},
   "outputs": [],
   "source": [
    "tropical = {\"pineapple\", \"mango\", \"papaya\"}\n",
    "\n",
    "myset.update(tropical)"
   ]
  },
  {
   "cell_type": "code",
   "execution_count": 11,
   "id": "bc103880",
   "metadata": {},
   "outputs": [
    {
     "data": {
      "text/plain": [
       "{'apple', 'banana', 'cherry', 'mango', 'orange', 'papaya', 'pineapple'}"
      ]
     },
     "execution_count": 11,
     "metadata": {},
     "output_type": "execute_result"
    }
   ],
   "source": [
    "myset"
   ]
  },
  {
   "cell_type": "code",
   "execution_count": 12,
   "id": "876f1567",
   "metadata": {},
   "outputs": [
    {
     "ename": "NameError",
     "evalue": "name 'a' is not defined",
     "output_type": "error",
     "traceback": [
      "\u001b[31m---------------------------------------------------------------------------\u001b[39m",
      "\u001b[31mNameError\u001b[39m                                 Traceback (most recent call last)",
      "\u001b[36mCell\u001b[39m\u001b[36m \u001b[39m\u001b[32mIn[12]\u001b[39m\u001b[32m, line 3\u001b[39m\n\u001b[32m      1\u001b[39m a=\u001b[32m3\u001b[39m\n\u001b[32m      2\u001b[39m \u001b[38;5;28;01mdel\u001b[39;00m a\n\u001b[32m----> \u001b[39m\u001b[32m3\u001b[39m \u001b[43ma\u001b[49m \n",
      "\u001b[31mNameError\u001b[39m: name 'a' is not defined"
     ]
    }
   ],
   "source": [
    "a=3\n",
    "del a\n",
    "a "
   ]
  },
  {
   "cell_type": "code",
   "execution_count": 13,
   "id": "ebf91c97",
   "metadata": {},
   "outputs": [
    {
     "name": "stdout",
     "output_type": "stream",
     "text": [
      "<class 'dict'> {'k1': 'v1', 'v2': 'v2'}\n"
     ]
    }
   ],
   "source": [
    "map1={'k1':'v1','v2':'v2'}\n",
    "print(type(map1),map1)"
   ]
  },
  {
   "cell_type": "code",
   "execution_count": 14,
   "id": "44953e27",
   "metadata": {},
   "outputs": [
    {
     "data": {
      "text/plain": [
       "'v1'"
      ]
     },
     "execution_count": 14,
     "metadata": {},
     "output_type": "execute_result"
    }
   ],
   "source": [
    "map1.get('k1')"
   ]
  },
  {
   "cell_type": "code",
   "execution_count": 16,
   "id": "73b841c6",
   "metadata": {},
   "outputs": [
    {
     "data": {
      "text/plain": [
       "'v3'"
      ]
     },
     "execution_count": 16,
     "metadata": {},
     "output_type": "execute_result"
    }
   ],
   "source": [
    "map1.setdefault('k3','v3')"
   ]
  },
  {
   "cell_type": "code",
   "execution_count": 17,
   "id": "a2433f07",
   "metadata": {},
   "outputs": [
    {
     "data": {
      "text/plain": [
       "{'k1': 'v1', 'v2': 'v2', 'k3': 'v3'}"
      ]
     },
     "execution_count": 17,
     "metadata": {},
     "output_type": "execute_result"
    }
   ],
   "source": [
    "map1"
   ]
  },
  {
   "cell_type": "code",
   "execution_count": 20,
   "id": "062990d4",
   "metadata": {},
   "outputs": [
    {
     "data": {
      "text/plain": [
       "'v2'"
      ]
     },
     "execution_count": 20,
     "metadata": {},
     "output_type": "execute_result"
    }
   ],
   "source": [
    "map1.setdefault('k2','edit2')"
   ]
  },
  {
   "cell_type": "code",
   "execution_count": 23,
   "id": "9b506877",
   "metadata": {},
   "outputs": [
    {
     "data": {
      "text/plain": [
       "{'k1': 'v1', 'v2': 'v2', 'k3': 'v3', 'k2': 'v2'}"
      ]
     },
     "execution_count": 23,
     "metadata": {},
     "output_type": "execute_result"
    }
   ],
   "source": [
    "map1"
   ]
  },
  {
   "cell_type": "code",
   "execution_count": 46,
   "id": "fa7fc444",
   "metadata": {},
   "outputs": [
    {
     "name": "stdout",
     "output_type": "stream",
     "text": [
      "Ford\n"
     ]
    }
   ],
   "source": [
    "thisdict = {\n",
    "  \"brand\": \"Ford\",\n",
    "  \"model\": \"Mustang\",\n",
    "  \"year\": 1964\n",
    "}\n",
    "print(thisdict[\"brand\"])"
   ]
  },
  {
   "cell_type": "code",
   "execution_count": 25,
   "id": "b74174fa",
   "metadata": {},
   "outputs": [
    {
     "data": {
      "text/plain": [
       "{'brand': 'Ford', 'model': 'Mustang', 'year': 1964, 'color': 'red'}"
      ]
     },
     "execution_count": 25,
     "metadata": {},
     "output_type": "execute_result"
    }
   ],
   "source": [
    "thisdict['color']='red'\n",
    "\n",
    "thisdict"
   ]
  },
  {
   "cell_type": "code",
   "execution_count": 26,
   "id": "5b6a1ac5",
   "metadata": {},
   "outputs": [
    {
     "name": "stdout",
     "output_type": "stream",
     "text": [
      "4\n"
     ]
    }
   ],
   "source": [
    "print(len(thisdict))"
   ]
  },
  {
   "cell_type": "code",
   "execution_count": 27,
   "id": "793633ea",
   "metadata": {},
   "outputs": [
    {
     "name": "stdout",
     "output_type": "stream",
     "text": [
      "{'name': 'John', 'age': 36, 'country': 'Norway'}\n"
     ]
    }
   ],
   "source": [
    "thisdict = dict(name = \"John\", age = 36, country = \"Norway\")\n",
    "print(thisdict)"
   ]
  },
  {
   "cell_type": "code",
   "execution_count": 32,
   "id": "c537e663",
   "metadata": {},
   "outputs": [
    {
     "name": "stdout",
     "output_type": "stream",
     "text": [
      "['item1', 'item2', 'item3'] ('item1', 'item2', 'item3') {'item1', 'item2', 'item3'}\n"
     ]
    }
   ],
   "source": [
    "arr1=list(['item1','item2','item3'])\n",
    "arr2=tuple(arr1)\n",
    "set1=set(arr1)\n",
    "print(arr1,arr2,set1)"
   ]
  },
  {
   "cell_type": "code",
   "execution_count": 38,
   "id": "ea44efcb",
   "metadata": {},
   "outputs": [],
   "source": [
    "x = thisdict.keys()\n",
    "y= thisdict.values()\n",
    "z=thisdict.items()"
   ]
  },
  {
   "cell_type": "code",
   "execution_count": 39,
   "id": "52a6a12d",
   "metadata": {},
   "outputs": [
    {
     "data": {
      "text/plain": [
       "(dict_keys(['name', 'age', 'country']),\n",
       " dict_values(['John', 36, 'Norway']),\n",
       " dict_items([('name', 'John'), ('age', 36), ('country', 'Norway')]))"
      ]
     },
     "execution_count": 39,
     "metadata": {},
     "output_type": "execute_result"
    }
   ],
   "source": [
    "x,y,z"
   ]
  },
  {
   "cell_type": "code",
   "execution_count": 40,
   "id": "18dacf43",
   "metadata": {},
   "outputs": [],
   "source": [
    "thisdict.update({\"year\": 2020})"
   ]
  },
  {
   "cell_type": "code",
   "execution_count": 41,
   "id": "8cfebc21",
   "metadata": {},
   "outputs": [
    {
     "data": {
      "text/plain": [
       "{'name': 'John', 'age': 36, 'country': 'Norway', 'year': 2020}"
      ]
     },
     "execution_count": 41,
     "metadata": {},
     "output_type": "execute_result"
    }
   ],
   "source": [
    "thisdict"
   ]
  },
  {
   "cell_type": "code",
   "execution_count": 45,
   "id": "7470a392",
   "metadata": {},
   "outputs": [
    {
     "data": {
      "text/plain": [
       "36"
      ]
     },
     "execution_count": 45,
     "metadata": {},
     "output_type": "execute_result"
    }
   ],
   "source": [
    "thisdict.pop('age')"
   ]
  },
  {
   "cell_type": "code",
   "execution_count": 43,
   "id": "fd6ad591",
   "metadata": {},
   "outputs": [
    {
     "data": {
      "text/plain": [
       "('country', 'Norway')"
      ]
     },
     "execution_count": 43,
     "metadata": {},
     "output_type": "execute_result"
    }
   ],
   "source": [
    "thisdict.popitem()\n",
    "# print(thisdict)"
   ]
  },
  {
   "cell_type": "code",
   "execution_count": 48,
   "id": "20629d3b",
   "metadata": {},
   "outputs": [
    {
     "name": "stdout",
     "output_type": "stream",
     "text": [
      "brand Ford\n",
      "model Mustang\n",
      "year 1964\n"
     ]
    }
   ],
   "source": [
    "for key in thisdict:\n",
    "    print(key,thisdict[key])"
   ]
  },
  {
   "cell_type": "code",
   "execution_count": null,
   "id": "c479ffbd",
   "metadata": {},
   "outputs": [
    {
     "name": "stdout",
     "output_type": "stream",
     "text": [
      "('brand', 'Ford')\n",
      "('model', 'Mustang')\n",
      "('year', 1964)\n"
     ]
    }
   ],
   "source": [
    "for ele in thisdict.items():\n",
    "    print(ele)"
   ]
  },
  {
   "cell_type": "code",
   "execution_count": null,
   "id": "339ebe6a",
   "metadata": {},
   "outputs": [],
   "source": []
  }
 ],
 "metadata": {
  "kernelspec": {
   "display_name": "Python 3",
   "language": "python",
   "name": "python3"
  },
  "language_info": {
   "codemirror_mode": {
    "name": "ipython",
    "version": 3
   },
   "file_extension": ".py",
   "mimetype": "text/x-python",
   "name": "python",
   "nbconvert_exporter": "python",
   "pygments_lexer": "ipython3",
   "version": "3.11.9"
  }
 },
 "nbformat": 4,
 "nbformat_minor": 5
}
