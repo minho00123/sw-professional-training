{
 "cells": [
  {
   "cell_type": "code",
   "execution_count": null,
   "id": "f1f460de",
   "metadata": {},
   "outputs": [],
   "source": []
  },
  {
   "cell_type": "code",
   "execution_count": 1,
   "id": "3f804b89",
   "metadata": {},
   "outputs": [
    {
     "name": "stdout",
     "output_type": "stream",
     "text": [
      "Collecting elasticsearch\n",
      "  Downloading elasticsearch-9.0.2-py3-none-any.whl.metadata (8.4 kB)\n",
      "Collecting ollama\n",
      "  Downloading ollama-0.5.1-py3-none-any.whl.metadata (4.3 kB)\n",
      "Collecting python-dotenv\n",
      "  Downloading python_dotenv-1.1.1-py3-none-any.whl.metadata (24 kB)\n",
      "Collecting elastic-transport<9,>=8.15.1 (from elasticsearch)\n",
      "  Downloading elastic_transport-8.17.1-py3-none-any.whl.metadata (3.8 kB)\n",
      "Requirement already satisfied: python-dateutil in c:\\users\\user\\miniconda3\\envs\\env11\\lib\\site-packages (from elasticsearch) (2.9.0.post0)\n",
      "Requirement already satisfied: typing-extensions in c:\\users\\user\\miniconda3\\envs\\env11\\lib\\site-packages (from elasticsearch) (4.14.1)\n",
      "Requirement already satisfied: urllib3<3,>=1.26.2 in c:\\users\\user\\miniconda3\\envs\\env11\\lib\\site-packages (from elastic-transport<9,>=8.15.1->elasticsearch) (2.5.0)\n",
      "Requirement already satisfied: certifi in c:\\users\\user\\miniconda3\\envs\\env11\\lib\\site-packages (from elastic-transport<9,>=8.15.1->elasticsearch) (2025.7.9)\n",
      "Requirement already satisfied: httpx>=0.27 in c:\\users\\user\\miniconda3\\envs\\env11\\lib\\site-packages (from ollama) (0.28.1)\n",
      "Collecting pydantic>=2.9 (from ollama)\n",
      "  Downloading pydantic-2.11.7-py3-none-any.whl.metadata (67 kB)\n",
      "Requirement already satisfied: anyio in c:\\users\\user\\miniconda3\\envs\\env11\\lib\\site-packages (from httpx>=0.27->ollama) (4.9.0)\n",
      "Requirement already satisfied: httpcore==1.* in c:\\users\\user\\miniconda3\\envs\\env11\\lib\\site-packages (from httpx>=0.27->ollama) (1.0.9)\n",
      "Requirement already satisfied: idna in c:\\users\\user\\miniconda3\\envs\\env11\\lib\\site-packages (from httpx>=0.27->ollama) (3.10)\n",
      "Requirement already satisfied: h11>=0.16 in c:\\users\\user\\miniconda3\\envs\\env11\\lib\\site-packages (from httpcore==1.*->httpx>=0.27->ollama) (0.16.0)\n",
      "Collecting annotated-types>=0.6.0 (from pydantic>=2.9->ollama)\n",
      "  Downloading annotated_types-0.7.0-py3-none-any.whl.metadata (15 kB)\n",
      "Collecting pydantic-core==2.33.2 (from pydantic>=2.9->ollama)\n",
      "  Downloading pydantic_core-2.33.2-cp311-cp311-win_amd64.whl.metadata (6.9 kB)\n",
      "Collecting typing-inspection>=0.4.0 (from pydantic>=2.9->ollama)\n",
      "  Downloading typing_inspection-0.4.1-py3-none-any.whl.metadata (2.6 kB)\n",
      "Requirement already satisfied: sniffio>=1.1 in c:\\users\\user\\miniconda3\\envs\\env11\\lib\\site-packages (from anyio->httpx>=0.27->ollama) (1.3.1)\n",
      "Requirement already satisfied: six>=1.5 in c:\\users\\user\\miniconda3\\envs\\env11\\lib\\site-packages (from python-dateutil->elasticsearch) (1.17.0)\n",
      "Downloading elasticsearch-9.0.2-py3-none-any.whl (914 kB)\n",
      "   ---------------------------------------- 0.0/914.3 kB ? eta -:--:--\n",
      "   --------------------------------------- 914.3/914.3 kB 43.5 MB/s eta 0:00:00\n",
      "Downloading elastic_transport-8.17.1-py3-none-any.whl (64 kB)\n",
      "Downloading ollama-0.5.1-py3-none-any.whl (13 kB)\n",
      "Downloading python_dotenv-1.1.1-py3-none-any.whl (20 kB)\n",
      "Downloading pydantic-2.11.7-py3-none-any.whl (444 kB)\n",
      "Downloading pydantic_core-2.33.2-cp311-cp311-win_amd64.whl (2.0 MB)\n",
      "   ---------------------------------------- 0.0/2.0 MB ? eta -:--:--\n",
      "   ---------------------------------------- 2.0/2.0 MB 36.0 MB/s eta 0:00:00\n",
      "Downloading annotated_types-0.7.0-py3-none-any.whl (13 kB)\n",
      "Downloading typing_inspection-0.4.1-py3-none-any.whl (14 kB)\n",
      "Installing collected packages: typing-inspection, python-dotenv, pydantic-core, elastic-transport, annotated-types, pydantic, elasticsearch, ollama\n",
      "\n",
      "   --------------- ------------------------ 3/8 [elastic-transport]\n",
      "   ------------------------- -------------- 5/8 [pydantic]\n",
      "   ------------------------- -------------- 5/8 [pydantic]\n",
      "   ------------------------- -------------- 5/8 [pydantic]\n",
      "   ------------------------------ --------- 6/8 [elasticsearch]\n",
      "   ------------------------------ --------- 6/8 [elasticsearch]\n",
      "   ------------------------------ --------- 6/8 [elasticsearch]\n",
      "   ------------------------------ --------- 6/8 [elasticsearch]\n",
      "   ------------------------------ --------- 6/8 [elasticsearch]\n",
      "   ------------------------------ --------- 6/8 [elasticsearch]\n",
      "   ---------------------------------------- 8/8 [ollama]\n",
      "\n",
      "Successfully installed annotated-types-0.7.0 elastic-transport-8.17.1 elasticsearch-9.0.2 ollama-0.5.1 pydantic-2.11.7 pydantic-core-2.33.2 python-dotenv-1.1.1 typing-inspection-0.4.1\n"
     ]
    }
   ],
   "source": [
    "!pip install elasticsearch ollama python-dotenv"
   ]
  },
  {
   "cell_type": "code",
   "execution_count": null,
   "id": "f78d5e0b",
   "metadata": {},
   "outputs": [],
   "source": [
    "# .env\n",
    "EMBEDDING_MODEL=\"jeffh/intfloat-multilingual-e5-large-instruct:f16\"\n",
    "CHAT_MODEL=\"hf.co/heegyu/EEVE-Korean-Instruct-10.8B-v1.0-GGUF:Q5_K_M\"\n",
    "\n",
    "ES_URL=\"http://localhost:9200\"\n",
    "ES_USERNAME=\"elastic\"\n",
    "ES_PASSWORD=\"changeme\"\n",
    "ES_INDEX_NAME=\"vector1\""
   ]
  },
  {
   "cell_type": "code",
   "execution_count": null,
   "id": "3c9d280f",
   "metadata": {},
   "outputs": [],
   "source": []
  },
  {
   "cell_type": "code",
   "execution_count": null,
   "id": "76ad0aa0",
   "metadata": {},
   "outputs": [],
   "source": []
  },
  {
   "cell_type": "code",
   "execution_count": null,
   "id": "f31a0f65",
   "metadata": {},
   "outputs": [],
   "source": []
  }
 ],
 "metadata": {
  "kernelspec": {
   "display_name": "env11",
   "language": "python",
   "name": "python3"
  },
  "language_info": {
   "codemirror_mode": {
    "name": "ipython",
    "version": 3
   },
   "file_extension": ".py",
   "mimetype": "text/x-python",
   "name": "python",
   "nbconvert_exporter": "python",
   "pygments_lexer": "ipython3",
   "version": "3.11.13"
  }
 },
 "nbformat": 4,
 "nbformat_minor": 5
}
