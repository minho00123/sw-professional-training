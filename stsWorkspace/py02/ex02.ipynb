{
 "cells": [
  {
   "cell_type": "code",
   "execution_count": 8,
   "id": "0af9ab42",
   "metadata": {},
   "outputs": [],
   "source": [
    "def my_function():\n",
    "  print(\"Hello from a function\")"
   ]
  },
  {
   "cell_type": "code",
   "execution_count": 10,
   "id": "244cf54e",
   "metadata": {},
   "outputs": [
    {
     "name": "stdout",
     "output_type": "stream",
     "text": [
      "Hello from a function\n"
     ]
    }
   ],
   "source": [
    "my_function()"
   ]
  },
  {
   "cell_type": "code",
   "execution_count": 3,
   "id": "ce61235e",
   "metadata": {},
   "outputs": [
    {
     "name": "stdout",
     "output_type": "stream",
     "text": [
      "<function my_function at 0x0000028DF8DAD4E0>\n"
     ]
    }
   ],
   "source": [
    "func=my_function\n",
    "print(func)"
   ]
  },
  {
   "cell_type": "code",
   "execution_count": 4,
   "id": "8fecec08",
   "metadata": {},
   "outputs": [
    {
     "name": "stdout",
     "output_type": "stream",
     "text": [
      "Hello from a function\n"
     ]
    }
   ],
   "source": [
    "func()"
   ]
  },
  {
   "cell_type": "code",
   "execution_count": 15,
   "id": "8ddf8279",
   "metadata": {},
   "outputs": [
    {
     "name": "stdout",
     "output_type": "stream",
     "text": [
      "('Emil', 'Tobias', 'Linus')\n"
     ]
    }
   ],
   "source": [
    "def my_function(*kids):\n",
    "  print(kids)\n",
    "\n",
    "my_function(\"Emil\", \"Tobias\", \"Linus\")"
   ]
  },
  {
   "cell_type": "code",
   "execution_count": 28,
   "id": "734fbf0f",
   "metadata": {},
   "outputs": [
    {
     "name": "stdout",
     "output_type": "stream",
     "text": [
      "(['item1', 'item2', 'item3'],)\n",
      "('item1', 'item2', 'item3')\n",
      "('item1', 'item2', 'item3')\n"
     ]
    }
   ],
   "source": [
    "arr1=['item1','item2','item3']\n",
    "my_function(arr1)\n",
    "my_function(*arr1)\n",
    "my_function(*['item1','item2','item3'])"
   ]
  },
  {
   "cell_type": "code",
   "execution_count": 26,
   "id": "1838ee58",
   "metadata": {},
   "outputs": [
    {
     "data": {
      "text/plain": [
       "list"
      ]
     },
     "execution_count": 26,
     "metadata": {},
     "output_type": "execute_result"
    }
   ],
   "source": [
    "# a=('item1',)\n",
    "a=['item1','item2','item3',]\n",
    "type(a)"
   ]
  },
  {
   "cell_type": "code",
   "execution_count": 36,
   "id": "0cbf93eb",
   "metadata": {},
   "outputs": [
    {
     "name": "stdout",
     "output_type": "stream",
     "text": [
      "{'k1': 'v1', 'k2': 'v2', 'k3': 'v3'}\n"
     ]
    }
   ],
   "source": [
    "def func2(arg):\n",
    "    print(arg)\n",
    "\n",
    "func2({'k1':'v1','k2':'v2','k3':'v3'})"
   ]
  },
  {
   "cell_type": "code",
   "execution_count": 34,
   "id": "c9e8ffc1",
   "metadata": {},
   "outputs": [
    {
     "name": "stdout",
     "output_type": "stream",
     "text": [
      "{'k1': 'v1', 'k2': 'v2'}\n"
     ]
    }
   ],
   "source": [
    "def func3(**arg):\n",
    "    print(arg)\n",
    "\n",
    "func3(k1='v1',k2='v2')"
   ]
  },
  {
   "cell_type": "code",
   "execution_count": 38,
   "id": "ff16eb87",
   "metadata": {},
   "outputs": [
    {
     "name": "stdout",
     "output_type": "stream",
     "text": [
      "1\n",
      "2\n",
      "3\n"
     ]
    }
   ],
   "source": [
    "print(1,2,3,sep='\\n')"
   ]
  },
  {
   "cell_type": "code",
   "execution_count": 40,
   "id": "4f3ae7c6",
   "metadata": {},
   "outputs": [
    {
     "name": "stdout",
     "output_type": "stream",
     "text": [
      "{'k1': 'v1', 'k2': 'v2'}\n"
     ]
    }
   ],
   "source": [
    "myMap={'k1': 'v1', 'k2': 'v2'}\n",
    "\n",
    "func3(**myMap)"
   ]
  },
  {
   "cell_type": "code",
   "execution_count": 49,
   "id": "c8cc2a0c",
   "metadata": {},
   "outputs": [
    {
     "name": "stdout",
     "output_type": "stream",
     "text": [
      "1 2 300 () {}\n",
      "1 2 3 () {}\n",
      "1 2 3 (4, 5) {}\n",
      "1 2 3 (4, 5) {'name': 'test'}\n"
     ]
    }
   ],
   "source": [
    "def func4(a,b,c=300,*arg1,**arg2):\n",
    "    print(a,b,c,arg1,arg2)\n",
    "\n",
    "func4(1,2)\n",
    "func4(1,2,3)\n",
    "func4(1,2,3,4,5)\n",
    "func4(1,2,3,4,5,name='test')"
   ]
  },
  {
   "cell_type": "code",
   "execution_count": 51,
   "id": "b7b7cd4c",
   "metadata": {},
   "outputs": [
    {
     "data": {
      "text/plain": [
       "4"
      ]
     },
     "execution_count": 51,
     "metadata": {},
     "output_type": "execute_result"
    }
   ],
   "source": [
    "func5=lambda x: x if x%2==0 else x+1\n",
    "func5(3)"
   ]
  },
  {
   "cell_type": "code",
   "execution_count": 61,
   "id": "b7a74cd8",
   "metadata": {},
   "outputs": [
    {
     "data": {
      "text/plain": [
       "[1, 2, 3, 4]"
      ]
     },
     "execution_count": 61,
     "metadata": {},
     "output_type": "execute_result"
    }
   ],
   "source": [
    "def func6 (x):\n",
    "    return x.upper()\n",
    "\n",
    "arr2=['item1','item2','item3','item4']\n",
    "\n",
    "# for ele in arr2:\n",
    "#     print(func6(ele))\n",
    "list(map(func6,arr2))\n",
    "list(map(lambda x:int(x[-1:]),arr2))"
   ]
  },
  {
   "cell_type": "code",
   "execution_count": 65,
   "id": "ddaca61e",
   "metadata": {},
   "outputs": [
    {
     "data": {
      "text/plain": [
       "['item1', 'item3']"
      ]
     },
     "execution_count": 65,
     "metadata": {},
     "output_type": "execute_result"
    }
   ],
   "source": [
    "def func7 (x):\n",
    "    return True if int(x[-1:])%2==0 else False\n",
    "list(filter(func7,arr2))\n",
    "list(filter(lambda x:True if int(x[-1:])%2==1 else False,arr2))"
   ]
  },
  {
   "cell_type": "code",
   "execution_count": 66,
   "id": "2613c215",
   "metadata": {},
   "outputs": [],
   "source": [
    "from functools import reduce"
   ]
  },
  {
   "cell_type": "code",
   "execution_count": null,
   "id": "4a97afd3",
   "metadata": {},
   "outputs": [],
   "source": [
    "def func8 (a,b):\n",
    "    return a+b\n",
    "reduce(arr2)"
   ]
  }
 ],
 "metadata": {
  "kernelspec": {
   "display_name": "Python 3",
   "language": "python",
   "name": "python3"
  },
  "language_info": {
   "codemirror_mode": {
    "name": "ipython",
    "version": 3
   },
   "file_extension": ".py",
   "mimetype": "text/x-python",
   "name": "python",
   "nbconvert_exporter": "python",
   "pygments_lexer": "ipython3",
   "version": "3.11.9"
  }
 },
 "nbformat": 4,
 "nbformat_minor": 5
}
