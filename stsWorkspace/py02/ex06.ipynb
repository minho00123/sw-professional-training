{
 "cells": [
  {
   "cell_type": "markdown",
   "id": "ded9b08a",
   "metadata": {},
   "source": [
    "## IO"
   ]
  },
  {
   "cell_type": "code",
   "execution_count": 40,
   "id": "78af19e8",
   "metadata": {},
   "outputs": [],
   "source": [
    "f = open(\"ex05.py\",\"rb\")"
   ]
  },
  {
   "cell_type": "code",
   "execution_count": 41,
   "id": "55c9421b",
   "metadata": {},
   "outputs": [
    {
     "name": "stdout",
     "output_type": "stream",
     "text": [
      "b''\n"
     ]
    }
   ],
   "source": [
    "print(f.read())\n",
    "f.close()"
   ]
  },
  {
   "cell_type": "code",
   "execution_count": 38,
   "id": "5046816f",
   "metadata": {},
   "outputs": [],
   "source": [
    "# print(f.readline())\n",
    "# print(f.readline())\n",
    "# print(f.readline())\n",
    "cnt=0\n",
    "for a in f:\n",
    "    cnt+=1\n",
    "    print(cnt,a)\n",
    "f.close()"
   ]
  },
  {
   "cell_type": "code",
   "execution_count": 18,
   "id": "53f72786",
   "metadata": {},
   "outputs": [
    {
     "name": "stdout",
     "output_type": "stream",
     "text": [
      "def func1():\n",
      "    print('메인으로 실행')\n",
      "def func2():\n",
      "    print('모듈로 불러다 수행')\n",
      "\n",
      "if __name__=='__main__':\n",
      "    func1()\n"
     ]
    }
   ],
   "source": [
    "with open(\"pack/ex04.py\",encoding='utf-8') as f:\n",
    "  print(f.read())"
   ]
  },
  {
   "cell_type": "code",
   "execution_count": 42,
   "id": "40d44659",
   "metadata": {},
   "outputs": [],
   "source": [
    "f = open(\"ex07.txt\",\"wt\")\n",
    "f.write('abcdefg')\n",
    "f.close()"
   ]
  },
  {
   "cell_type": "code",
   "execution_count": 46,
   "id": "21dd18c0",
   "metadata": {},
   "outputs": [],
   "source": [
    "with open(\"ex07.txt\",\"at\") as f:\n",
    "    # f.write('ABCD')\n",
    "    f.writelines(['ABCD','1234','!@#$'])"
   ]
  },
  {
   "cell_type": "code",
   "execution_count": 55,
   "id": "6d4d71a9",
   "metadata": {},
   "outputs": [],
   "source": [
    "f = open(\"ex09.txt\", \"x\")\n",
    "f.close()"
   ]
  },
  {
   "cell_type": "code",
   "execution_count": 1,
   "id": "5d93dc6e",
   "metadata": {},
   "outputs": [],
   "source": [
    "import os\n",
    "os.remove(\"ex07.txt\")"
   ]
  },
  {
   "cell_type": "code",
   "execution_count": 56,
   "id": "af36c832",
   "metadata": {},
   "outputs": [],
   "source": [
    "import os\n",
    "if os.path.exists(\"ex09.txt\"):\n",
    "  os.remove(\"ex09.txt\")\n",
    "else:\n",
    "  print(\"The file does not exist\")"
   ]
  },
  {
   "cell_type": "code",
   "execution_count": 2,
   "id": "a2fabe2a",
   "metadata": {},
   "outputs": [],
   "source": [
    "import os\n",
    "os.rmdir('test')"
   ]
  },
  {
   "cell_type": "code",
   "execution_count": 3,
   "id": "9c56195f",
   "metadata": {},
   "outputs": [],
   "source": [
    "import os\n",
    "os.mkdir('test1')"
   ]
  },
  {
   "cell_type": "code",
   "execution_count": null,
   "id": "6881f41e",
   "metadata": {},
   "outputs": [
    {
     "ename": "UnicodeEncodeError",
     "evalue": "'cp949' codec can't encode character '\\u2022' in position 243168: illegal multibyte sequence",
     "output_type": "error",
     "traceback": [
      "\u001b[31m---------------------------------------------------------------------------\u001b[39m",
      "\u001b[31mUnicodeEncodeError\u001b[39m                        Traceback (most recent call last)",
      "\u001b[36mCell\u001b[39m\u001b[36m \u001b[39m\u001b[32mIn[4]\u001b[39m\u001b[32m, line 3\u001b[39m\n\u001b[32m      1\u001b[39m f1=\u001b[38;5;28mopen\u001b[39m(\u001b[33m'\u001b[39m\u001b[33mex01.html\u001b[39m\u001b[33m'\u001b[39m,\u001b[33m'\u001b[39m\u001b[33mrt\u001b[39m\u001b[33m'\u001b[39m,encoding=\u001b[33m'\u001b[39m\u001b[33mutf-8\u001b[39m\u001b[33m'\u001b[39m)\n\u001b[32m      2\u001b[39m f2=\u001b[38;5;28mopen\u001b[39m(\u001b[33m'\u001b[39m\u001b[33mex09.html\u001b[39m\u001b[33m'\u001b[39m,\u001b[33m'\u001b[39m\u001b[33mw\u001b[39m\u001b[33m'\u001b[39m)\n\u001b[32m----> \u001b[39m\u001b[32m3\u001b[39m \u001b[43mf2\u001b[49m\u001b[43m.\u001b[49m\u001b[43mwrite\u001b[49m\u001b[43m(\u001b[49m\u001b[43mf1\u001b[49m\u001b[43m.\u001b[49m\u001b[43mread\u001b[49m\u001b[43m(\u001b[49m\u001b[43m)\u001b[49m\u001b[43m)\u001b[49m\n\u001b[32m      4\u001b[39m f1.close()\n\u001b[32m      5\u001b[39m f2.close()\n",
      "\u001b[31mUnicodeEncodeError\u001b[39m: 'cp949' codec can't encode character '\\u2022' in position 243168: illegal multibyte sequence"
     ]
    }
   ],
   "source": [
    "f1=open('ex01.html','rt',encoding='utf-8')\n",
    "f2=open('ex09.html','wt',encoding='utf-8')\n",
    "f2.write(f1.read())\n",
    "f1.close()\n",
    "f2.close()"
   ]
  },
  {
   "cell_type": "code",
   "execution_count": null,
   "id": "120aca5c",
   "metadata": {},
   "outputs": [],
   "source": []
  }
 ],
 "metadata": {
  "kernelspec": {
   "display_name": "Python 3",
   "language": "python",
   "name": "python3"
  },
  "language_info": {
   "codemirror_mode": {
    "name": "ipython",
    "version": 3
   },
   "file_extension": ".py",
   "mimetype": "text/x-python",
   "name": "python",
   "nbconvert_exporter": "python",
   "pygments_lexer": "ipython3",
   "version": "3.11.9"
  }
 },
 "nbformat": 4,
 "nbformat_minor": 5
}
